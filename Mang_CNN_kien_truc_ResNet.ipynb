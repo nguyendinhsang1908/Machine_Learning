{
  "nbformat": 4,
  "nbformat_minor": 0,
  "metadata": {
    "colab": {
      "name": "Copy of cnn_example.ipynb",
      "provenance": [],
      "collapsed_sections": []
    },
    "kernelspec": {
      "name": "python3",
      "display_name": "Python 3"
    },
    "accelerator": "GPU"
  },
  "cells": [
    {
      "cell_type": "code",
      "metadata": {
        "id": "U8lfBN3Y4U3G"
      },
      "source": [
        "from keras.layers import Input, Dense, Conv2D, MaxPooling2D, Flatten, Add, AveragePooling2D\n",
        "from keras.models import load_model, Model\n",
        "#from keras.objectives import categorical_crossentropy\n",
        "\n",
        "class DeltaCNN:\n",
        "  # constructor\n",
        "  def __init__(self):\n",
        "    self.model = None\n",
        "\n",
        "  # Define structure of the CNN\n",
        "  def build(self, input_dim):\n",
        "    input = Input(shape = input_dim) # X dau vao cua minh\n",
        "    \n",
        "    C1 = Conv2D(8, (3, 3), padding='same', activation='relu')(input)\n",
        "    S2 = MaxPooling2D(pool_size=(2, 2), padding=\"same\",strides=(2,2) )(C1)\n",
        "\n",
        "    C3 = Conv2D(8, (3, 3), padding='same', activation='relu')(S2)\n",
        "    C4 = Conv2D(8, (3, 3), padding='same', activation='relu')(C3)\n",
        "    C5 = Add()([C4, S2])\n",
        "\n",
        "    C6= Conv2D(16, (3, 3), strides = (2,2), padding='same', activation='relu')(C5)\n",
        "    C7 = Conv2D(16, (3, 3), padding='same', activation='relu')(C6)\n",
        "    C8 = Conv2D(16, (3, 3), padding='same', activation='relu')(C7)\n",
        "    C9 = Add()([C8, C6])\n",
        "\n",
        "    P10 = AveragePooling2D()(C9)\n",
        "    flat = Flatten()(P10)\n",
        "    F0 = Dense(400, activation='sigmoid', use_bias=True)(flat)\n",
        "    output = Dense(10, activation='softmax', use_bias=True)(F0)\n",
        "\n",
        "    self.model = Model(input, output)\n",
        "    self.model.compile(optimizer=\"adam\", loss = 'categorical_crossentropy', metrics=['accuracy'])\n",
        "  \n",
        "  # Train the model\n",
        "  def train(self, x_train, y_train, x_val, y_val): # x_train chinh la X, y_train chinh la ground-truth\n",
        "    self.model.fit(x_train, y_train, validation_data = (x_val, y_val), epochs = 50, batch_size = 128)\n",
        "  \n",
        "  # Load model from file\n",
        "  def load(self, model_file):\n",
        "    self.model = load_model(model_file)\n",
        "  \n",
        "  # save the trained model\n",
        "  def save(self, model_file):\n",
        "    self.model.save(model_file)\n",
        "  \n",
        "  # Show the architecture of the model\n",
        "  def summary(self):\n",
        "    self.model.summary()\n",
        "\n",
        "  # Test the model with a given input\n",
        "  def predict(self, x_test):\n",
        "    return self.model.predict(x_test)"
      ],
      "execution_count": 25,
      "outputs": []
    },
    {
      "cell_type": "code",
      "metadata": {
        "id": "QOwcpLbYHno7",
        "colab": {
          "base_uri": "https://localhost:8080/"
        },
        "outputId": "903ab072-fd30-4490-eac5-39d08e838171"
      },
      "source": [
        "from keras.datasets import mnist\n",
        "\n",
        "(x_train, y_train), (x_test, y_test) = mnist.load_data()\n",
        "\n",
        "print(x_train.shape)\n",
        "print(y_train.shape)\n",
        "print(x_test.shape)\n",
        "print(y_test.shape)\n"
      ],
      "execution_count": 26,
      "outputs": [
        {
          "output_type": "stream",
          "name": "stdout",
          "text": [
            "(60000, 28, 28)\n",
            "(60000,)\n",
            "(10000, 28, 28)\n",
            "(10000,)\n"
          ]
        }
      ]
    },
    {
      "cell_type": "code",
      "metadata": {
        "id": "hjbM2ZrWON53"
      },
      "source": [
        "import numpy as np\n",
        "\n",
        "def onehot(y):\n",
        "  oh = np.zeros((y.shape[0], 10))\n",
        "  for i in range(y.shape[0]):\n",
        "    oh[i, int(y[i])]=1\n",
        "  return oh"
      ],
      "execution_count": 27,
      "outputs": []
    },
    {
      "cell_type": "code",
      "metadata": {
        "id": "-HXJByzMMyWq"
      },
      "source": [
        "from sklearn import preprocessing\n",
        "import numpy as np\n",
        "\n",
        "#enc = preprocessing.OneHotEncoder()\n",
        "\n",
        "#enc.fit(y_train)\n",
        "\n",
        "#y_train_oh = enc.transform(y_train).toarray()\n",
        "#y_train_oh.shape\n",
        "y_train_oh = onehot(y_train)\n",
        "y_train_oh.shape\n",
        "\n",
        "y_test_oh = onehot(y_test)\n",
        "y_test_oh.shape\n",
        "\n",
        "x_train_norm = x_train / 255.0\n",
        "x_test_norm = x_test / 255.0\n",
        "\n",
        "#x_train_norm = x_train_norm[:,:,:, np.newaxis] # Optional: Convert 60000x28x28 -> 60000x28x28x1\n",
        "#x_test_norm = x_test_norm[:,:,:, np.newaxis] # Optional: Convert 60000x28x28 -> 60000x28x28x1"
      ],
      "execution_count": 28,
      "outputs": []
    },
    {
      "cell_type": "code",
      "metadata": {
        "colab": {
          "base_uri": "https://localhost:8080/"
        },
        "id": "vjd-0_h89KFL",
        "outputId": "d6a60ff0-66e6-46ad-bb84-f544c1d6a00f"
      },
      "source": [
        "x_train_norm.shape"
      ],
      "execution_count": 29,
      "outputs": [
        {
          "output_type": "execute_result",
          "data": {
            "text/plain": [
              "(60000, 28, 28)"
            ]
          },
          "metadata": {},
          "execution_count": 29
        }
      ]
    },
    {
      "cell_type": "code",
      "metadata": {
        "id": "J8JX9Eeauvmi",
        "colab": {
          "base_uri": "https://localhost:8080/"
        },
        "outputId": "9cc5145b-a296-4e8a-e58a-9f8b76a37db4"
      },
      "source": [
        "cnn = DeltaCNN()\n",
        "cnn.build((28, 28, 1))\n",
        "cnn.summary()"
      ],
      "execution_count": 30,
      "outputs": [
        {
          "output_type": "stream",
          "name": "stdout",
          "text": [
            "Model: \"model_2\"\n",
            "__________________________________________________________________________________________________\n",
            " Layer (type)                   Output Shape         Param #     Connected to                     \n",
            "==================================================================================================\n",
            " input_3 (InputLayer)           [(None, 28, 28, 1)]  0           []                               \n",
            "                                                                                                  \n",
            " conv2d_12 (Conv2D)             (None, 28, 28, 8)    80          ['input_3[0][0]']                \n",
            "                                                                                                  \n",
            " max_pooling2d_2 (MaxPooling2D)  (None, 14, 14, 8)   0           ['conv2d_12[0][0]']              \n",
            "                                                                                                  \n",
            " conv2d_13 (Conv2D)             (None, 14, 14, 8)    584         ['max_pooling2d_2[0][0]']        \n",
            "                                                                                                  \n",
            " conv2d_14 (Conv2D)             (None, 14, 14, 8)    584         ['conv2d_13[0][0]']              \n",
            "                                                                                                  \n",
            " add_4 (Add)                    (None, 14, 14, 8)    0           ['conv2d_14[0][0]',              \n",
            "                                                                  'max_pooling2d_2[0][0]']        \n",
            "                                                                                                  \n",
            " conv2d_15 (Conv2D)             (None, 7, 7, 16)     1168        ['add_4[0][0]']                  \n",
            "                                                                                                  \n",
            " conv2d_16 (Conv2D)             (None, 7, 7, 16)     2320        ['conv2d_15[0][0]']              \n",
            "                                                                                                  \n",
            " conv2d_17 (Conv2D)             (None, 7, 7, 16)     2320        ['conv2d_16[0][0]']              \n",
            "                                                                                                  \n",
            " add_5 (Add)                    (None, 7, 7, 16)     0           ['conv2d_17[0][0]',              \n",
            "                                                                  'conv2d_15[0][0]']              \n",
            "                                                                                                  \n",
            " average_pooling2d_2 (AveragePo  (None, 3, 3, 16)    0           ['add_5[0][0]']                  \n",
            " oling2D)                                                                                         \n",
            "                                                                                                  \n",
            " flatten_2 (Flatten)            (None, 144)          0           ['average_pooling2d_2[0][0]']    \n",
            "                                                                                                  \n",
            " dense_4 (Dense)                (None, 400)          58000       ['flatten_2[0][0]']              \n",
            "                                                                                                  \n",
            " dense_5 (Dense)                (None, 10)           4010        ['dense_4[0][0]']                \n",
            "                                                                                                  \n",
            "==================================================================================================\n",
            "Total params: 69,066\n",
            "Trainable params: 69,066\n",
            "Non-trainable params: 0\n",
            "__________________________________________________________________________________________________\n"
          ]
        }
      ]
    },
    {
      "cell_type": "code",
      "metadata": {
        "id": "zXQmG_xGyrzy",
        "colab": {
          "base_uri": "https://localhost:8080/"
        },
        "outputId": "b6a4ce35-b1e5-4539-eb86-526531a8bd11"
      },
      "source": [
        "cnn.save('bien-chung-delta.h5')"
      ],
      "execution_count": 31,
      "outputs": [
        {
          "output_type": "stream",
          "name": "stderr",
          "text": [
            "/usr/local/lib/python3.7/dist-packages/keras/engine/functional.py:1410: CustomMaskWarning: Custom mask layers require a config and must override get_config. When loading, the custom mask layer must be passed to the custom_objects argument.\n",
            "  layer_config = serialize_layer_fn(layer)\n"
          ]
        }
      ]
    },
    {
      "cell_type": "code",
      "metadata": {
        "colab": {
          "base_uri": "https://localhost:8080/",
          "height": 298
        },
        "id": "NzSuLa3zy4Eq",
        "outputId": "27a2f8dc-81a1-4315-d83b-052f3467db06"
      },
      "source": [
        "import matplotlib.pyplot as plt\n",
        "new_cnn = DeltaCNN()\n",
        "\n",
        "new_cnn.load('bien-chung-delta.h5')\n",
        "pred = new_cnn.predict(x_test_norm)\n",
        "index = 100\n",
        "plt.imshow(x_test[index])\n",
        "plt.show()\n",
        "print('Predicted label: ', np.argmax(pred[index]))\n",
        "print('Ground-truth label: ', y_test[index])"
      ],
      "execution_count": 32,
      "outputs": [
        {
          "output_type": "display_data",
          "data": {
            "image/png": "[encoded data removed]",
            "text/plain": [
              "<Figure size 432x288 with 1 Axes>"
            ]
          },
          "metadata": {
            "needs_background": "light"
          }
        },
        {
          "output_type": "stream",
          "name": "stdout",
          "text": [
            "Predicted label:  6\n",
            "Ground-truth label:  6\n"
          ]
        }
      ]
    }
  ]
}